{
 "metadata": {
  "language_info": {
   "codemirror_mode": {
    "name": "ipython",
    "version": 3
   },
   "file_extension": ".py",
   "mimetype": "text/x-python",
   "name": "python",
   "nbconvert_exporter": "python",
   "pygments_lexer": "ipython3",
   "version": "3.9.2"
  },
  "orig_nbformat": 2,
  "kernelspec": {
   "name": "python3",
   "display_name": "Python 3.9.2 64-bit ('susanasfireb': pipenv)",
   "metadata": {
    "interpreter": {
     "hash": "f2ba73c975f6ab97b550654ab7bbed9598ff14aebbf8a2f119f8d2f9b941800c"
    }
   }
  }
 },
 "nbformat": 4,
 "nbformat_minor": 2,
 "cells": [
  {
   "cell_type": "code",
   "execution_count": 1,
   "metadata": {},
   "outputs": [],
   "source": [
    "from firebase import firebase"
   ]
  },
  {
   "cell_type": "code",
   "execution_count": 2,
   "metadata": {},
   "outputs": [
    {
     "output_type": "stream",
     "name": "stdout",
     "text": [
      "{'msj': 'sisepuede', 'name': 'lasusana'}\n{'msj': 'Asistencia', 'name': 'Hassan Colio '}\n"
     ]
    }
   ],
   "source": [
    "db = firebase.FirebaseApplication(\"https://pythonfire-cb1ab-default-rtdb.firebaseio.com/\",None)\n",
    "\n",
    "result_asis = db.get('/asistencia',None)\n",
    "for student in result_asis.values():\n",
    "\n",
    "  print(student)\n",
    "#result_stud = db.get('/students',None)\n",
    "#print(result_asis)\n",
    "#print(result_stud)"
   ]
  },
  {
   "cell_type": "code",
   "execution_count": 3,
   "metadata": {},
   "outputs": [],
   "source": [
    "#alumn = db.post('/asistencia', {'msj': 'buenasnoshes', 'name': 'lasusana')\n",
    "#print (alumn)\n"
   ]
  }
 ]
}