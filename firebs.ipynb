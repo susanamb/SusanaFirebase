{
 "metadata": {
  "language_info": {
   "codemirror_mode": {
    "name": "ipython",
    "version": 3
   },
   "file_extension": ".py",
   "mimetype": "text/x-python",
   "name": "python",
   "nbconvert_exporter": "python",
   "pygments_lexer": "ipython3",
   "version": "3.9.2"
  },
  "orig_nbformat": 2,
  "kernelspec": {
   "name": "python3",
   "display_name": "Python 3.9.2 64-bit ('popo': pipenv)",
   "metadata": {
    "interpreter": {
     "hash": "165d245ec1bcff54d86134ccb7156649ab17612173b530a24f76ed27f0b85955"
    }
   }
  }
 },
 "nbformat": 4,
 "nbformat_minor": 2,
 "cells": [
  {
   "cell_type": "code",
   "execution_count": 51,
   "metadata": {},
   "outputs": [],
   "source": [
    "from firebase import firebase"
   ]
  },
  {
   "cell_type": "code",
   "execution_count": 52,
   "metadata": {},
   "outputs": [
    {
     "output_type": "stream",
     "name": "stdout",
     "text": [
      "{'-MZVeWswgb2qOZDlVjSu': {'msj': 'Si asisti a su clase', 'name': 'Profe_python'}, '-MZVfBLRELn2NCbGIExV': {'msj': 'Si asisti a su clase', 'name': 'Profe_python'}, '-MZVh-gr6Ib_cHVtA5_Y': {'name': 'Susana'}, '-MZVhlY3Uz91TpU17zIY': {'msj': 'buenasnoshes'}, '-MZVhsfu8h3hVY-7D93j': {'msj': 'Si asisti a su clase', 'name': 'Dudmit'}, '-MZVjKGpcmhF3hBFgBfT': {'msj': 'sisepuede', 'name': 'lasusana'}}\n"
     ]
    }
   ],
   "source": [
    "db = firebase.FirebaseApplication(\"https://pythonfire-cb1ab-default-rtdb.firebaseio.com/\",None)\n",
    "\n",
    "result_asis = db.get('/asistencia',None)\n",
    "result_stud = db.get('/students',None)\n",
    "print(result_asis)\n",
    "#print(result_stud)"
   ]
  },
  {
   "cell_type": "code",
   "execution_count": 53,
   "metadata": {},
   "outputs": [],
   "source": [
    "alumn = db.post('/asistencia', {'msj': 'buenasnoshes', 'name': 'lasusana')\n",
    "print (alumn)\n"
   ]
  }
 ]
}